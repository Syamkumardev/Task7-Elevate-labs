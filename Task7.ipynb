{
  "nbformat": 4,
  "nbformat_minor": 0,
  "metadata": {
    "colab": {
      "provenance": []
    },
    "kernelspec": {
      "name": "python3",
      "display_name": "Python 3"
    },
    "language_info": {
      "name": "python"
    }
  },
  "cells": [
    {
      "cell_type": "code",
      "execution_count": 1,
      "metadata": {
        "colab": {
          "base_uri": "https://localhost:8080/"
        },
        "id": "bqJ6Rjf3y6rn",
        "outputId": "75a7d416-a7c8-4252-81b1-16ab036b610f"
      },
      "outputs": [
        {
          "output_type": "stream",
          "name": "stdout",
          "text": [
            "SVM Linear Kernel\n",
            "[[41  2]\n",
            " [ 3 68]]\n",
            "              precision    recall  f1-score   support\n",
            "\n",
            "           0       0.93      0.95      0.94        43\n",
            "           1       0.97      0.96      0.96        71\n",
            "\n",
            "    accuracy                           0.96       114\n",
            "   macro avg       0.95      0.96      0.95       114\n",
            "weighted avg       0.96      0.96      0.96       114\n",
            "\n",
            "SVM RBF Kernel\n",
            "[[41  2]\n",
            " [ 1 70]]\n",
            "              precision    recall  f1-score   support\n",
            "\n",
            "           0       0.98      0.95      0.96        43\n",
            "           1       0.97      0.99      0.98        71\n",
            "\n",
            "    accuracy                           0.97       114\n",
            "   macro avg       0.97      0.97      0.97       114\n",
            "weighted avg       0.97      0.97      0.97       114\n",
            "\n",
            "Cross-Validation Accuracy (RBF): 0.9736376339077782\n"
          ]
        }
      ],
      "source": [
        "from sklearn.datasets import load_breast_cancer\n",
        "from sklearn.model_selection import train_test_split, cross_val_score\n",
        "from sklearn.preprocessing import StandardScaler\n",
        "from sklearn.svm import SVC\n",
        "from sklearn.metrics import classification_report, confusion_matrix\n",
        "import matplotlib.pyplot as plt\n",
        "import seaborn as sns\n",
        "\n",
        "\n",
        "data = load_breast_cancer()\n",
        "X, y = data.data, data.target\n",
        "\n",
        "\n",
        "scaler = StandardScaler()\n",
        "X_scaled = scaler.fit_transform(X)\n",
        "\n",
        "\n",
        "X_train, X_test, y_train, y_test = train_test_split(X_scaled, y, test_size=0.2, random_state=42)\n",
        "\n",
        "\n",
        "linear_model = SVC(kernel='linear', C=1)\n",
        "linear_model.fit(X_train, y_train)\n",
        "y_pred_linear = linear_model.predict(X_test)\n",
        "\n",
        "print(\"SVM Linear Kernel\")\n",
        "print(confusion_matrix(y_test, y_pred_linear))\n",
        "print(classification_report(y_test, y_pred_linear))\n",
        "\n",
        "\n",
        "rbf_model = SVC(kernel='rbf', C=1, gamma='scale')\n",
        "rbf_model.fit(X_train, y_train)\n",
        "y_pred_rbf = rbf_model.predict(X_test)\n",
        "\n",
        "print(\"SVM RBF Kernel\")\n",
        "print(confusion_matrix(y_test, y_pred_rbf))\n",
        "print(classification_report(y_test, y_pred_rbf))\n",
        "\n",
        "\n",
        "cv_scores = cross_val_score(rbf_model, X_scaled, y, cv=5)\n",
        "print(\"Cross-Validation Accuracy (RBF):\", cv_scores.mean())\n"
      ]
    },
    {
      "cell_type": "code",
      "source": [],
      "metadata": {
        "id": "5ntXykC2zJtz"
      },
      "execution_count": null,
      "outputs": []
    }
  ]
}